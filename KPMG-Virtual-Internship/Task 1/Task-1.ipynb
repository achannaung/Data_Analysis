{
 "cells": [
  {
   "cell_type": "markdown",
   "id": "a7655ddc-a659-447c-a487-732035461558",
   "metadata": {},
   "source": [
    "# TASK:1 - Data Quality Assessment"
   ]
  },
  {
   "cell_type": "markdown",
   "id": "82fa345e-6d0d-4070-9429-ec8148fa7477",
   "metadata": {},
   "source": [
    "### Import Library"
   ]
  },
  {
   "cell_type": "code",
   "execution_count": 1,
   "id": "613c4a55-483b-4b2c-bc34-c4812551777a",
   "metadata": {},
   "outputs": [],
   "source": [
    "import pandas as pd"
   ]
  },
  {
   "cell_type": "markdown",
   "id": "4d548691-874f-4e66-aa76-6ca20ea7df7f",
   "metadata": {},
   "source": [
    "### Reading Data"
   ]
  },
  {
   "cell_type": "code",
   "execution_count": 62,
   "id": "de55cbe8-e5ac-438b-bf23-0a7e261da1dc",
   "metadata": {},
   "outputs": [],
   "source": [
    "df = pd.ExcelFile('KPMG_VI_New_raw_data_update_final.xlsx')"
   ]
  },
  {
   "cell_type": "markdown",
   "id": "cb244933-8b32-400b-ade0-819275ea41d4",
   "metadata": {},
   "source": [
    "### Reading each data"
   ]
  },
  {
   "cell_type": "code",
   "execution_count": 63,
   "id": "4663ee94-d3bf-4fd6-896a-b940917b35e9",
   "metadata": {},
   "outputs": [
    {
     "name": "stderr",
     "output_type": "stream",
     "text": [
      "/var/folders/md/tn_62zhs5n50lbz66wqmxvzc0000gn/T/ipykernel_974/3750258662.py:2: FutureWarning: Inferring datetime64[ns] from data containing strings is deprecated and will be removed in a future version. To retain the old behavior explicitly pass Series(data, dtype=datetime64[ns])\n",
      "  NewCustomerList = pd.read_excel(df, 'NewCustomerList', skiprows=1)\n",
      "/var/folders/md/tn_62zhs5n50lbz66wqmxvzc0000gn/T/ipykernel_974/3750258662.py:3: FutureWarning: Inferring datetime64[ns] from data containing strings is deprecated and will be removed in a future version. To retain the old behavior explicitly pass Series(data, dtype=datetime64[ns])\n",
      "  CustomerDemographic = pd.read_excel(df, 'CustomerDemographic', skiprows=1)\n"
     ]
    }
   ],
   "source": [
    "Transactions = pd.read_excel(df, \"Transactions\", skiprows=1)\n",
    "NewCustomerList = pd.read_excel(df, 'NewCustomerList', skiprows=1)\n",
    "CustomerDemographic = pd.read_excel(df, 'CustomerDemographic', skiprows=1)\n",
    "CustomerAddress = pd.read_excel(df, 'CustomerAddress', skiprows=1)"
   ]
  },
  {
   "cell_type": "code",
   "execution_count": 16,
   "id": "8981b67d-6301-4f0c-b867-b12a7c76c506",
   "metadata": {},
   "outputs": [
    {
     "data": {
      "text/html": [
       "<div>\n",
       "<style scoped>\n",
       "    .dataframe tbody tr th:only-of-type {\n",
       "        vertical-align: middle;\n",
       "    }\n",
       "\n",
       "    .dataframe tbody tr th {\n",
       "        vertical-align: top;\n",
       "    }\n",
       "\n",
       "    .dataframe thead th {\n",
       "        text-align: right;\n",
       "    }\n",
       "</style>\n",
       "<table border=\"1\" class=\"dataframe\">\n",
       "  <thead>\n",
       "    <tr style=\"text-align: right;\">\n",
       "      <th></th>\n",
       "      <th>transaction_id</th>\n",
       "      <th>product_id</th>\n",
       "      <th>customer_id</th>\n",
       "      <th>transaction_date</th>\n",
       "      <th>online_order</th>\n",
       "      <th>order_status</th>\n",
       "      <th>brand</th>\n",
       "      <th>product_line</th>\n",
       "      <th>product_class</th>\n",
       "      <th>product_size</th>\n",
       "      <th>list_price</th>\n",
       "      <th>standard_cost</th>\n",
       "      <th>product_first_sold_date</th>\n",
       "    </tr>\n",
       "  </thead>\n",
       "  <tbody>\n",
       "    <tr>\n",
       "      <th>0</th>\n",
       "      <td>1</td>\n",
       "      <td>2</td>\n",
       "      <td>2950</td>\n",
       "      <td>2017-02-25</td>\n",
       "      <td>0.0</td>\n",
       "      <td>Approved</td>\n",
       "      <td>Solex</td>\n",
       "      <td>Standard</td>\n",
       "      <td>medium</td>\n",
       "      <td>medium</td>\n",
       "      <td>71.49</td>\n",
       "      <td>53.62</td>\n",
       "      <td>41245.0</td>\n",
       "    </tr>\n",
       "    <tr>\n",
       "      <th>1</th>\n",
       "      <td>2</td>\n",
       "      <td>3</td>\n",
       "      <td>3120</td>\n",
       "      <td>2017-05-21</td>\n",
       "      <td>1.0</td>\n",
       "      <td>Approved</td>\n",
       "      <td>Trek Bicycles</td>\n",
       "      <td>Standard</td>\n",
       "      <td>medium</td>\n",
       "      <td>large</td>\n",
       "      <td>2091.47</td>\n",
       "      <td>388.92</td>\n",
       "      <td>41701.0</td>\n",
       "    </tr>\n",
       "    <tr>\n",
       "      <th>2</th>\n",
       "      <td>3</td>\n",
       "      <td>37</td>\n",
       "      <td>402</td>\n",
       "      <td>2017-10-16</td>\n",
       "      <td>0.0</td>\n",
       "      <td>Approved</td>\n",
       "      <td>OHM Cycles</td>\n",
       "      <td>Standard</td>\n",
       "      <td>low</td>\n",
       "      <td>medium</td>\n",
       "      <td>1793.43</td>\n",
       "      <td>248.82</td>\n",
       "      <td>36361.0</td>\n",
       "    </tr>\n",
       "  </tbody>\n",
       "</table>\n",
       "</div>"
      ],
      "text/plain": [
       "   transaction_id  product_id  customer_id transaction_date  online_order  \\\n",
       "0               1           2         2950       2017-02-25           0.0   \n",
       "1               2           3         3120       2017-05-21           1.0   \n",
       "2               3          37          402       2017-10-16           0.0   \n",
       "\n",
       "  order_status          brand product_line product_class product_size  \\\n",
       "0     Approved          Solex     Standard        medium       medium   \n",
       "1     Approved  Trek Bicycles     Standard        medium        large   \n",
       "2     Approved     OHM Cycles     Standard           low       medium   \n",
       "\n",
       "   list_price  standard_cost  product_first_sold_date  \n",
       "0       71.49          53.62                  41245.0  \n",
       "1     2091.47         388.92                  41701.0  \n",
       "2     1793.43         248.82                  36361.0  "
      ]
     },
     "execution_count": 16,
     "metadata": {},
     "output_type": "execute_result"
    }
   ],
   "source": [
    "Transactions.head(3)"
   ]
  },
  {
   "cell_type": "code",
   "execution_count": 19,
   "id": "60ebd699-5383-4111-a1ad-59c7ac145f31",
   "metadata": {},
   "outputs": [
    {
     "name": "stdout",
     "output_type": "stream",
     "text": [
      "<class 'pandas.core.frame.DataFrame'>\n",
      "RangeIndex: 20000 entries, 0 to 19999\n",
      "Data columns (total 13 columns):\n",
      " #   Column                   Non-Null Count  Dtype         \n",
      "---  ------                   --------------  -----         \n",
      " 0   transaction_id           20000 non-null  int64         \n",
      " 1   product_id               20000 non-null  int64         \n",
      " 2   customer_id              20000 non-null  int64         \n",
      " 3   transaction_date         20000 non-null  datetime64[ns]\n",
      " 4   online_order             19640 non-null  float64       \n",
      " 5   order_status             20000 non-null  object        \n",
      " 6   brand                    19803 non-null  object        \n",
      " 7   product_line             19803 non-null  object        \n",
      " 8   product_class            19803 non-null  object        \n",
      " 9   product_size             19803 non-null  object        \n",
      " 10  list_price               20000 non-null  float64       \n",
      " 11  standard_cost            19803 non-null  float64       \n",
      " 12  product_first_sold_date  19803 non-null  float64       \n",
      "dtypes: datetime64[ns](1), float64(4), int64(3), object(5)\n",
      "memory usage: 2.0+ MB\n"
     ]
    }
   ],
   "source": [
    "Transactions.info()"
   ]
  },
  {
   "cell_type": "code",
   "execution_count": 20,
   "id": "494d0d16-8c9e-4382-b363-b58d300cd531",
   "metadata": {},
   "outputs": [
    {
     "data": {
      "text/plain": [
       "(20000, 13)"
      ]
     },
     "execution_count": 20,
     "metadata": {},
     "output_type": "execute_result"
    }
   ],
   "source": [
    "Transactions.shape"
   ]
  },
  {
   "cell_type": "code",
   "execution_count": 21,
   "id": "8e95a6a8-9e6b-4a1c-8c59-6c31b00db719",
   "metadata": {},
   "outputs": [
    {
     "data": {
      "text/plain": [
       "transaction_id               0\n",
       "product_id                   0\n",
       "customer_id                  0\n",
       "transaction_date             0\n",
       "online_order               360\n",
       "order_status                 0\n",
       "brand                      197\n",
       "product_line               197\n",
       "product_class              197\n",
       "product_size               197\n",
       "list_price                   0\n",
       "standard_cost              197\n",
       "product_first_sold_date    197\n",
       "dtype: int64"
      ]
     },
     "execution_count": 21,
     "metadata": {},
     "output_type": "execute_result"
    }
   ],
   "source": [
    "Transactions.isnull().sum()"
   ]
  },
  {
   "cell_type": "markdown",
   "id": "f87ac685-71af-464f-be57-435e9f0bf302",
   "metadata": {},
   "source": [
    "> Missing values were found within 7 columns."
   ]
  },
  {
   "cell_type": "code",
   "execution_count": 23,
   "id": "ebb2bd9b-683b-4d2f-9d27-800906b40839",
   "metadata": {},
   "outputs": [
    {
     "data": {
      "text/plain": [
       "0"
      ]
     },
     "execution_count": 23,
     "metadata": {},
     "output_type": "execute_result"
    }
   ],
   "source": [
    "Transactions.duplicated().sum()"
   ]
  },
  {
   "cell_type": "markdown",
   "id": "6dfa72af-d4e5-45d7-9569-3c6ef84f340f",
   "metadata": {},
   "source": [
    "> There are no duplicate values, which means the data is unique."
   ]
  },
  {
   "cell_type": "code",
   "execution_count": 25,
   "id": "1acff493-8197-49c7-86e4-a299d2959fc4",
   "metadata": {},
   "outputs": [
    {
     "data": {
      "text/plain": [
       "transaction_id             20000\n",
       "product_id                   101\n",
       "customer_id                 3494\n",
       "transaction_date             364\n",
       "online_order                   2\n",
       "order_status                   2\n",
       "brand                          6\n",
       "product_line                   4\n",
       "product_class                  3\n",
       "product_size                   3\n",
       "list_price                   296\n",
       "standard_cost                103\n",
       "product_first_sold_date      100\n",
       "dtype: int64"
      ]
     },
     "execution_count": 25,
     "metadata": {},
     "output_type": "execute_result"
    }
   ],
   "source": [
    "# check for uniqueness\n",
    "Transactions.nunique()"
   ]
  },
  {
   "cell_type": "markdown",
   "id": "b9d5a4bd-fad7-47d2-800e-ffa3999915a0",
   "metadata": {},
   "source": [
    "### Exploring the columns"
   ]
  },
  {
   "cell_type": "code",
   "execution_count": 26,
   "id": "bfc9a02e-082c-4b59-ada5-18ca0deea002",
   "metadata": {},
   "outputs": [
    {
     "data": {
      "text/plain": [
       "Index(['transaction_id', 'product_id', 'customer_id', 'transaction_date',\n",
       "       'online_order', 'order_status', 'brand', 'product_line',\n",
       "       'product_class', 'product_size', 'list_price', 'standard_cost',\n",
       "       'product_first_sold_date'],\n",
       "      dtype='object')"
      ]
     },
     "execution_count": 26,
     "metadata": {},
     "output_type": "execute_result"
    }
   ],
   "source": [
    "Transactions.columns"
   ]
  },
  {
   "cell_type": "code",
   "execution_count": 27,
   "id": "bdfc14a1-32a5-4b36-aad5-256c3d20ff24",
   "metadata": {},
   "outputs": [
    {
     "data": {
      "text/plain": [
       "Approved     19821\n",
       "Cancelled      179\n",
       "Name: order_status, dtype: int64"
      ]
     },
     "execution_count": 27,
     "metadata": {},
     "output_type": "execute_result"
    }
   ],
   "source": [
    "Transactions['order_status'].value_counts()"
   ]
  },
  {
   "cell_type": "code",
   "execution_count": 29,
   "id": "b5ac4a5f-1fe8-4713-bf58-173843fdadd7",
   "metadata": {},
   "outputs": [
    {
     "data": {
      "text/plain": [
       "Solex             4253\n",
       "Giant Bicycles    3312\n",
       "WeareA2B          3295\n",
       "OHM Cycles        3043\n",
       "Trek Bicycles     2990\n",
       "Norco Bicycles    2910\n",
       "Name: brand, dtype: int64"
      ]
     },
     "execution_count": 29,
     "metadata": {},
     "output_type": "execute_result"
    }
   ],
   "source": [
    "Transactions['brand'].value_counts()"
   ]
  },
  {
   "cell_type": "code",
   "execution_count": 30,
   "id": "0558f44f-57e8-492d-b1da-e8a619203a92",
   "metadata": {},
   "outputs": [
    {
     "data": {
      "text/plain": [
       "Standard    14176\n",
       "Road         3970\n",
       "Touring      1234\n",
       "Mountain      423\n",
       "Name: product_line, dtype: int64"
      ]
     },
     "execution_count": 30,
     "metadata": {},
     "output_type": "execute_result"
    }
   ],
   "source": [
    "Transactions['product_line'].value_counts()"
   ]
  },
  {
   "cell_type": "code",
   "execution_count": 31,
   "id": "2b0e8ca1-fb44-4be6-8c26-02a5b8ed367e",
   "metadata": {},
   "outputs": [
    {
     "data": {
      "text/plain": [
       "medium    13826\n",
       "high       3013\n",
       "low        2964\n",
       "Name: product_class, dtype: int64"
      ]
     },
     "execution_count": 31,
     "metadata": {},
     "output_type": "execute_result"
    }
   ],
   "source": [
    "Transactions['product_class'].value_counts()"
   ]
  },
  {
   "cell_type": "code",
   "execution_count": 32,
   "id": "3a90d316-80bb-4ff1-bbdb-1ebbb114da1e",
   "metadata": {},
   "outputs": [
    {
     "data": {
      "text/plain": [
       "medium    12990\n",
       "large      3976\n",
       "small      2837\n",
       "Name: product_size, dtype: int64"
      ]
     },
     "execution_count": 32,
     "metadata": {},
     "output_type": "execute_result"
    }
   ],
   "source": [
    "Transactions['product_size'].value_counts()"
   ]
  },
  {
   "cell_type": "code",
   "execution_count": 35,
   "id": "caa3d2bd-626b-413f-985b-89407125b18d",
   "metadata": {},
   "outputs": [
    {
     "data": {
      "text/plain": [
       "33879.0    234\n",
       "41064.0    229\n",
       "37823.0    227\n",
       "39880.0    222\n",
       "38216.0    220\n",
       "          ... \n",
       "41848.0    169\n",
       "42404.0    168\n",
       "41922.0    166\n",
       "37659.0    163\n",
       "34586.0    162\n",
       "Name: product_first_sold_date, Length: 100, dtype: int64"
      ]
     },
     "execution_count": 35,
     "metadata": {},
     "output_type": "execute_result"
    }
   ],
   "source": [
    "Transactions['product_first_sold_date'].value_counts()"
   ]
  },
  {
   "cell_type": "markdown",
   "id": "fbdefbf7-98fa-4def-be55-560b8d2e2acb",
   "metadata": {},
   "source": [
    "**Convert date col from** `int` **to** `datetime`"
   ]
  },
  {
   "cell_type": "code",
   "execution_count": 38,
   "id": "d5c97a46-5621-4750-84b7-55568115e0b2",
   "metadata": {},
   "outputs": [
    {
     "data": {
      "text/plain": [
       "0   1970-01-01 11:27:25\n",
       "1   1970-01-01 11:35:01\n",
       "2   1970-01-01 10:06:01\n",
       "3   1970-01-01 10:02:25\n",
       "4   1970-01-01 11:43:46\n",
       "Name: product_first_sold_date, dtype: datetime64[ns]"
      ]
     },
     "execution_count": 38,
     "metadata": {},
     "output_type": "execute_result"
    }
   ],
   "source": [
    "Transactions['product_first_sold_date'] = pd.to_datetime(Transactions['product_first_sold_date'], unit='s')\n",
    "Transactions['product_first_sold_date'].head()"
   ]
  },
  {
   "cell_type": "code",
   "execution_count": 45,
   "id": "041d1094-22ee-4c98-90bd-c60b0660ef84",
   "metadata": {},
   "outputs": [
    {
     "data": {
      "text/plain": [
       "0    1970-01-01 11:27:25\n",
       "1    1970-01-01 11:35:01\n",
       "2    1970-01-01 10:06:01\n",
       "3    1970-01-01 10:02:25\n",
       "4    1970-01-01 11:43:46\n",
       "5    1970-01-01 10:50:31\n",
       "6    1970-01-01 09:29:25\n",
       "7    1970-01-01 11:05:15\n",
       "8    1970-01-01 09:17:35\n",
       "9    1970-01-01 10:36:56\n",
       "10   1970-01-01 11:19:44\n",
       "11   1970-01-01 11:42:52\n",
       "12   1970-01-01 09:35:27\n",
       "13   1970-01-01 09:36:26\n",
       "14   1970-01-01 10:36:33\n",
       "15   1970-01-01 10:31:13\n",
       "16   1970-01-01 10:36:46\n",
       "17   1970-01-01 09:24:48\n",
       "18   1970-01-01 11:05:15\n",
       "19   1970-01-01 10:22:17\n",
       "Name: product_first_sold_date, dtype: datetime64[ns]"
      ]
     },
     "execution_count": 45,
     "metadata": {},
     "output_type": "execute_result"
    }
   ],
   "source": [
    "Transactions['product_first_sold_date'].head(20)"
   ]
  },
  {
   "cell_type": "markdown",
   "id": "dccc29ff-968b-4d51-89cd-e3a418c74f04",
   "metadata": {},
   "source": [
    "> The value in the **product_first_sold_date** column are not correct as it showns everything happening the same day at different times."
   ]
  },
  {
   "cell_type": "markdown",
   "id": "7c7a34e1-bcea-4a68-bac5-ab9a3b81c0f5",
   "metadata": {},
   "source": [
    "## Exploring \"New_Customer_List\" Dataset"
   ]
  },
  {
   "cell_type": "code",
   "execution_count": 64,
   "id": "3751d56e-b1fe-41c1-8855-7941fb761659",
   "metadata": {},
   "outputs": [
    {
     "data": {
      "text/html": [
       "<div>\n",
       "<style scoped>\n",
       "    .dataframe tbody tr th:only-of-type {\n",
       "        vertical-align: middle;\n",
       "    }\n",
       "\n",
       "    .dataframe tbody tr th {\n",
       "        vertical-align: top;\n",
       "    }\n",
       "\n",
       "    .dataframe thead th {\n",
       "        text-align: right;\n",
       "    }\n",
       "</style>\n",
       "<table border=\"1\" class=\"dataframe\">\n",
       "  <thead>\n",
       "    <tr style=\"text-align: right;\">\n",
       "      <th></th>\n",
       "      <th>first_name</th>\n",
       "      <th>last_name</th>\n",
       "      <th>gender</th>\n",
       "      <th>past_3_years_bike_related_purchases</th>\n",
       "      <th>DOB</th>\n",
       "      <th>job_title</th>\n",
       "      <th>job_industry_category</th>\n",
       "      <th>wealth_segment</th>\n",
       "      <th>deceased_indicator</th>\n",
       "      <th>owns_car</th>\n",
       "      <th>...</th>\n",
       "      <th>state</th>\n",
       "      <th>country</th>\n",
       "      <th>property_valuation</th>\n",
       "      <th>Unnamed: 16</th>\n",
       "      <th>Unnamed: 17</th>\n",
       "      <th>Unnamed: 18</th>\n",
       "      <th>Unnamed: 19</th>\n",
       "      <th>Unnamed: 20</th>\n",
       "      <th>Rank</th>\n",
       "      <th>Value</th>\n",
       "    </tr>\n",
       "  </thead>\n",
       "  <tbody>\n",
       "    <tr>\n",
       "      <th>0</th>\n",
       "      <td>Chickie</td>\n",
       "      <td>Brister</td>\n",
       "      <td>Male</td>\n",
       "      <td>86</td>\n",
       "      <td>1957-07-12</td>\n",
       "      <td>General Manager</td>\n",
       "      <td>Manufacturing</td>\n",
       "      <td>Mass Customer</td>\n",
       "      <td>N</td>\n",
       "      <td>Yes</td>\n",
       "      <td>...</td>\n",
       "      <td>QLD</td>\n",
       "      <td>Australia</td>\n",
       "      <td>6</td>\n",
       "      <td>0.97</td>\n",
       "      <td>1.2125</td>\n",
       "      <td>1.515625</td>\n",
       "      <td>1.288281</td>\n",
       "      <td>1</td>\n",
       "      <td>1</td>\n",
       "      <td>1.718750</td>\n",
       "    </tr>\n",
       "    <tr>\n",
       "      <th>1</th>\n",
       "      <td>Morly</td>\n",
       "      <td>Genery</td>\n",
       "      <td>Male</td>\n",
       "      <td>69</td>\n",
       "      <td>1970-03-22</td>\n",
       "      <td>Structural Engineer</td>\n",
       "      <td>Property</td>\n",
       "      <td>Mass Customer</td>\n",
       "      <td>N</td>\n",
       "      <td>No</td>\n",
       "      <td>...</td>\n",
       "      <td>NSW</td>\n",
       "      <td>Australia</td>\n",
       "      <td>11</td>\n",
       "      <td>0.40</td>\n",
       "      <td>0.4000</td>\n",
       "      <td>0.500000</td>\n",
       "      <td>0.425000</td>\n",
       "      <td>1</td>\n",
       "      <td>1</td>\n",
       "      <td>1.718750</td>\n",
       "    </tr>\n",
       "    <tr>\n",
       "      <th>2</th>\n",
       "      <td>Ardelis</td>\n",
       "      <td>Forrester</td>\n",
       "      <td>Female</td>\n",
       "      <td>10</td>\n",
       "      <td>1974-08-28</td>\n",
       "      <td>Senior Cost Accountant</td>\n",
       "      <td>Financial Services</td>\n",
       "      <td>Affluent Customer</td>\n",
       "      <td>N</td>\n",
       "      <td>No</td>\n",
       "      <td>...</td>\n",
       "      <td>VIC</td>\n",
       "      <td>Australia</td>\n",
       "      <td>5</td>\n",
       "      <td>0.61</td>\n",
       "      <td>0.6100</td>\n",
       "      <td>0.610000</td>\n",
       "      <td>0.610000</td>\n",
       "      <td>1</td>\n",
       "      <td>1</td>\n",
       "      <td>1.718750</td>\n",
       "    </tr>\n",
       "    <tr>\n",
       "      <th>3</th>\n",
       "      <td>Lucine</td>\n",
       "      <td>Stutt</td>\n",
       "      <td>Female</td>\n",
       "      <td>64</td>\n",
       "      <td>1979-01-28</td>\n",
       "      <td>Account Representative III</td>\n",
       "      <td>Manufacturing</td>\n",
       "      <td>Affluent Customer</td>\n",
       "      <td>N</td>\n",
       "      <td>Yes</td>\n",
       "      <td>...</td>\n",
       "      <td>QLD</td>\n",
       "      <td>Australia</td>\n",
       "      <td>1</td>\n",
       "      <td>1.01</td>\n",
       "      <td>1.2625</td>\n",
       "      <td>1.262500</td>\n",
       "      <td>1.262500</td>\n",
       "      <td>4</td>\n",
       "      <td>4</td>\n",
       "      <td>1.703125</td>\n",
       "    </tr>\n",
       "    <tr>\n",
       "      <th>4</th>\n",
       "      <td>Melinda</td>\n",
       "      <td>Hadlee</td>\n",
       "      <td>Female</td>\n",
       "      <td>34</td>\n",
       "      <td>1965-09-21</td>\n",
       "      <td>Financial Analyst</td>\n",
       "      <td>Financial Services</td>\n",
       "      <td>Affluent Customer</td>\n",
       "      <td>N</td>\n",
       "      <td>No</td>\n",
       "      <td>...</td>\n",
       "      <td>NSW</td>\n",
       "      <td>Australia</td>\n",
       "      <td>9</td>\n",
       "      <td>0.66</td>\n",
       "      <td>0.6600</td>\n",
       "      <td>0.825000</td>\n",
       "      <td>0.825000</td>\n",
       "      <td>4</td>\n",
       "      <td>4</td>\n",
       "      <td>1.703125</td>\n",
       "    </tr>\n",
       "  </tbody>\n",
       "</table>\n",
       "<p>5 rows × 23 columns</p>\n",
       "</div>"
      ],
      "text/plain": [
       "  first_name  last_name  gender  past_3_years_bike_related_purchases  \\\n",
       "0    Chickie    Brister    Male                                   86   \n",
       "1      Morly     Genery    Male                                   69   \n",
       "2    Ardelis  Forrester  Female                                   10   \n",
       "3     Lucine      Stutt  Female                                   64   \n",
       "4    Melinda     Hadlee  Female                                   34   \n",
       "\n",
       "         DOB                   job_title job_industry_category  \\\n",
       "0 1957-07-12             General Manager         Manufacturing   \n",
       "1 1970-03-22         Structural Engineer              Property   \n",
       "2 1974-08-28      Senior Cost Accountant    Financial Services   \n",
       "3 1979-01-28  Account Representative III         Manufacturing   \n",
       "4 1965-09-21           Financial Analyst    Financial Services   \n",
       "\n",
       "      wealth_segment deceased_indicator owns_car  ...  state    country  \\\n",
       "0      Mass Customer                  N      Yes  ...    QLD  Australia   \n",
       "1      Mass Customer                  N       No  ...    NSW  Australia   \n",
       "2  Affluent Customer                  N       No  ...    VIC  Australia   \n",
       "3  Affluent Customer                  N      Yes  ...    QLD  Australia   \n",
       "4  Affluent Customer                  N       No  ...    NSW  Australia   \n",
       "\n",
       "   property_valuation Unnamed: 16 Unnamed: 17  Unnamed: 18  Unnamed: 19  \\\n",
       "0                   6        0.97      1.2125     1.515625     1.288281   \n",
       "1                  11        0.40      0.4000     0.500000     0.425000   \n",
       "2                   5        0.61      0.6100     0.610000     0.610000   \n",
       "3                   1        1.01      1.2625     1.262500     1.262500   \n",
       "4                   9        0.66      0.6600     0.825000     0.825000   \n",
       "\n",
       "   Unnamed: 20  Rank     Value  \n",
       "0            1     1  1.718750  \n",
       "1            1     1  1.718750  \n",
       "2            1     1  1.718750  \n",
       "3            4     4  1.703125  \n",
       "4            4     4  1.703125  \n",
       "\n",
       "[5 rows x 23 columns]"
      ]
     },
     "execution_count": 64,
     "metadata": {},
     "output_type": "execute_result"
    }
   ],
   "source": [
    "NewCustomerList.head()"
   ]
  },
  {
   "cell_type": "code",
   "execution_count": 65,
   "id": "308e3989-0e40-46fd-a57a-ac095d86fa35",
   "metadata": {},
   "outputs": [
    {
     "name": "stdout",
     "output_type": "stream",
     "text": [
      "<class 'pandas.core.frame.DataFrame'>\n",
      "RangeIndex: 1000 entries, 0 to 999\n",
      "Data columns (total 23 columns):\n",
      " #   Column                               Non-Null Count  Dtype         \n",
      "---  ------                               --------------  -----         \n",
      " 0   first_name                           1000 non-null   object        \n",
      " 1   last_name                            971 non-null    object        \n",
      " 2   gender                               1000 non-null   object        \n",
      " 3   past_3_years_bike_related_purchases  1000 non-null   int64         \n",
      " 4   DOB                                  983 non-null    datetime64[ns]\n",
      " 5   job_title                            894 non-null    object        \n",
      " 6   job_industry_category                835 non-null    object        \n",
      " 7   wealth_segment                       1000 non-null   object        \n",
      " 8   deceased_indicator                   1000 non-null   object        \n",
      " 9   owns_car                             1000 non-null   object        \n",
      " 10  tenure                               1000 non-null   int64         \n",
      " 11  address                              1000 non-null   object        \n",
      " 12  postcode                             1000 non-null   int64         \n",
      " 13  state                                1000 non-null   object        \n",
      " 14  country                              1000 non-null   object        \n",
      " 15  property_valuation                   1000 non-null   int64         \n",
      " 16  Unnamed: 16                          1000 non-null   float64       \n",
      " 17  Unnamed: 17                          1000 non-null   float64       \n",
      " 18  Unnamed: 18                          1000 non-null   float64       \n",
      " 19  Unnamed: 19                          1000 non-null   float64       \n",
      " 20  Unnamed: 20                          1000 non-null   int64         \n",
      " 21  Rank                                 1000 non-null   int64         \n",
      " 22  Value                                1000 non-null   float64       \n",
      "dtypes: datetime64[ns](1), float64(5), int64(6), object(11)\n",
      "memory usage: 179.8+ KB\n"
     ]
    }
   ],
   "source": [
    "NewCustomerList.info()"
   ]
  },
  {
   "cell_type": "code",
   "execution_count": 66,
   "id": "590acd65-8bf6-4924-b32d-14e827118413",
   "metadata": {},
   "outputs": [],
   "source": [
    "# Drop the unnamed columns\n",
    "\n",
    "NewCustomerList.drop(['Unnamed: 16','Unnamed: 17','Unnamed: 18','Unnamed: 19',\n",
    "                      'Unnamed: 20'], axis=1, inplace=True)"
   ]
  },
  {
   "cell_type": "code",
   "execution_count": 67,
   "id": "4a5eb709-81eb-4af7-96a4-0fcd0f0dc99e",
   "metadata": {},
   "outputs": [
    {
     "data": {
      "text/plain": [
       "(1000, 18)"
      ]
     },
     "execution_count": 67,
     "metadata": {},
     "output_type": "execute_result"
    }
   ],
   "source": [
    "NewCustomerList.shape"
   ]
  },
  {
   "cell_type": "code",
   "execution_count": 68,
   "id": "eb228d2b-102c-4fd0-9b5e-6a37ac170e8e",
   "metadata": {},
   "outputs": [
    {
     "data": {
      "text/plain": [
       "first_name                               0\n",
       "last_name                               29\n",
       "gender                                   0\n",
       "past_3_years_bike_related_purchases      0\n",
       "DOB                                     17\n",
       "job_title                              106\n",
       "job_industry_category                  165\n",
       "wealth_segment                           0\n",
       "deceased_indicator                       0\n",
       "owns_car                                 0\n",
       "tenure                                   0\n",
       "address                                  0\n",
       "postcode                                 0\n",
       "state                                    0\n",
       "country                                  0\n",
       "property_valuation                       0\n",
       "Rank                                     0\n",
       "Value                                    0\n",
       "dtype: int64"
      ]
     },
     "execution_count": 68,
     "metadata": {},
     "output_type": "execute_result"
    }
   ],
   "source": [
    "NewCustomerList.isnull().sum()"
   ]
  },
  {
   "cell_type": "markdown",
   "id": "b1c3650a-740a-4a5c-a645-a84b1bd4e12f",
   "metadata": {},
   "source": [
    "> Missing values were found within four columns."
   ]
  },
  {
   "cell_type": "code",
   "execution_count": 69,
   "id": "c7b9ec86-14c4-4289-97de-1e7ed51d62f0",
   "metadata": {},
   "outputs": [
    {
     "data": {
      "text/plain": [
       "0"
      ]
     },
     "execution_count": 69,
     "metadata": {},
     "output_type": "execute_result"
    }
   ],
   "source": [
    "NewCustomerList.duplicated().sum()"
   ]
  },
  {
   "cell_type": "markdown",
   "id": "5875778e-fd48-4f5a-8a38-8e2f9a5adead",
   "metadata": {},
   "source": [
    "> There are no duplicate values."
   ]
  },
  {
   "cell_type": "code",
   "execution_count": 70,
   "id": "88f0f32b-9eb4-4981-881f-8afb161a7a37",
   "metadata": {},
   "outputs": [
    {
     "data": {
      "text/plain": [
       "first_name                              940\n",
       "last_name                               961\n",
       "gender                                    3\n",
       "past_3_years_bike_related_purchases     100\n",
       "DOB                                     958\n",
       "job_title                               184\n",
       "job_industry_category                     9\n",
       "wealth_segment                            3\n",
       "deceased_indicator                        1\n",
       "owns_car                                  2\n",
       "tenure                                   23\n",
       "address                                1000\n",
       "postcode                                522\n",
       "state                                     3\n",
       "country                                   1\n",
       "property_valuation                       12\n",
       "Rank                                    324\n",
       "Value                                   324\n",
       "dtype: int64"
      ]
     },
     "execution_count": 70,
     "metadata": {},
     "output_type": "execute_result"
    }
   ],
   "source": [
    "NewCustomerList.nunique()"
   ]
  },
  {
   "cell_type": "markdown",
   "id": "8d176862-e4e3-434b-a127-5f42977abcba",
   "metadata": {},
   "source": [
    "### Exploring the columns"
   ]
  },
  {
   "cell_type": "code",
   "execution_count": 71,
   "id": "291da9ac-f60b-42a6-9cb9-8410539ce3ae",
   "metadata": {},
   "outputs": [
    {
     "data": {
      "text/plain": [
       "Index(['first_name', 'last_name', 'gender',\n",
       "       'past_3_years_bike_related_purchases', 'DOB', 'job_title',\n",
       "       'job_industry_category', 'wealth_segment', 'deceased_indicator',\n",
       "       'owns_car', 'tenure', 'address', 'postcode', 'state', 'country',\n",
       "       'property_valuation', 'Rank', 'Value'],\n",
       "      dtype='object')"
      ]
     },
     "execution_count": 71,
     "metadata": {},
     "output_type": "execute_result"
    }
   ],
   "source": [
    "NewCustomerList.columns"
   ]
  },
  {
   "cell_type": "code",
   "execution_count": 72,
   "id": "3e173ab1-71f4-44d5-88a2-a8a4f8dd3f02",
   "metadata": {},
   "outputs": [
    {
     "data": {
      "text/plain": [
       "Female    513\n",
       "Male      470\n",
       "U          17\n",
       "Name: gender, dtype: int64"
      ]
     },
     "execution_count": 72,
     "metadata": {},
     "output_type": "execute_result"
    }
   ],
   "source": [
    "NewCustomerList['gender'].value_counts()"
   ]
  },
  {
   "cell_type": "code",
   "execution_count": 78,
   "id": "c15482a1-c9cb-40af-8717-5f98e3d835e6",
   "metadata": {},
   "outputs": [
    {
     "data": {
      "text/html": [
       "<div>\n",
       "<style scoped>\n",
       "    .dataframe tbody tr th:only-of-type {\n",
       "        vertical-align: middle;\n",
       "    }\n",
       "\n",
       "    .dataframe tbody tr th {\n",
       "        vertical-align: top;\n",
       "    }\n",
       "\n",
       "    .dataframe thead th {\n",
       "        text-align: right;\n",
       "    }\n",
       "</style>\n",
       "<table border=\"1\" class=\"dataframe\">\n",
       "  <thead>\n",
       "    <tr style=\"text-align: right;\">\n",
       "      <th></th>\n",
       "      <th>first_name</th>\n",
       "      <th>last_name</th>\n",
       "      <th>gender</th>\n",
       "      <th>past_3_years_bike_related_purchases</th>\n",
       "      <th>DOB</th>\n",
       "      <th>job_title</th>\n",
       "      <th>job_industry_category</th>\n",
       "      <th>wealth_segment</th>\n",
       "      <th>deceased_indicator</th>\n",
       "      <th>owns_car</th>\n",
       "      <th>tenure</th>\n",
       "      <th>address</th>\n",
       "      <th>postcode</th>\n",
       "      <th>state</th>\n",
       "      <th>country</th>\n",
       "      <th>property_valuation</th>\n",
       "      <th>Rank</th>\n",
       "      <th>Value</th>\n",
       "    </tr>\n",
       "  </thead>\n",
       "  <tbody>\n",
       "    <tr>\n",
       "      <th>59</th>\n",
       "      <td>Normy</td>\n",
       "      <td>Goodinge</td>\n",
       "      <td>U</td>\n",
       "      <td>5</td>\n",
       "      <td>NaT</td>\n",
       "      <td>Associate Professor</td>\n",
       "      <td>IT</td>\n",
       "      <td>Mass Customer</td>\n",
       "      <td>N</td>\n",
       "      <td>No</td>\n",
       "      <td>4</td>\n",
       "      <td>7232 Fulton Parkway</td>\n",
       "      <td>3810</td>\n",
       "      <td>VIC</td>\n",
       "      <td>Australia</td>\n",
       "      <td>5</td>\n",
       "      <td>57</td>\n",
       "      <td>1.375000</td>\n",
       "    </tr>\n",
       "    <tr>\n",
       "      <th>226</th>\n",
       "      <td>Hatti</td>\n",
       "      <td>Carletti</td>\n",
       "      <td>U</td>\n",
       "      <td>35</td>\n",
       "      <td>NaT</td>\n",
       "      <td>Legal Assistant</td>\n",
       "      <td>IT</td>\n",
       "      <td>Affluent Customer</td>\n",
       "      <td>N</td>\n",
       "      <td>Yes</td>\n",
       "      <td>11</td>\n",
       "      <td>6 Iowa Center</td>\n",
       "      <td>2519</td>\n",
       "      <td>NSW</td>\n",
       "      <td>Australia</td>\n",
       "      <td>9</td>\n",
       "      <td>226</td>\n",
       "      <td>1.112500</td>\n",
       "    </tr>\n",
       "    <tr>\n",
       "      <th>324</th>\n",
       "      <td>Rozamond</td>\n",
       "      <td>Turtle</td>\n",
       "      <td>U</td>\n",
       "      <td>69</td>\n",
       "      <td>NaT</td>\n",
       "      <td>Legal Assistant</td>\n",
       "      <td>IT</td>\n",
       "      <td>Mass Customer</td>\n",
       "      <td>N</td>\n",
       "      <td>Yes</td>\n",
       "      <td>3</td>\n",
       "      <td>57025 New Castle Street</td>\n",
       "      <td>3850</td>\n",
       "      <td>VIC</td>\n",
       "      <td>Australia</td>\n",
       "      <td>3</td>\n",
       "      <td>324</td>\n",
       "      <td>1.010000</td>\n",
       "    </tr>\n",
       "    <tr>\n",
       "      <th>358</th>\n",
       "      <td>Tamas</td>\n",
       "      <td>Swatman</td>\n",
       "      <td>U</td>\n",
       "      <td>65</td>\n",
       "      <td>NaT</td>\n",
       "      <td>Assistant Media Planner</td>\n",
       "      <td>Entertainment</td>\n",
       "      <td>Affluent Customer</td>\n",
       "      <td>N</td>\n",
       "      <td>No</td>\n",
       "      <td>5</td>\n",
       "      <td>78 Clarendon Drive</td>\n",
       "      <td>4551</td>\n",
       "      <td>QLD</td>\n",
       "      <td>Australia</td>\n",
       "      <td>8</td>\n",
       "      <td>358</td>\n",
       "      <td>0.980000</td>\n",
       "    </tr>\n",
       "    <tr>\n",
       "      <th>360</th>\n",
       "      <td>Tracy</td>\n",
       "      <td>Andrejevic</td>\n",
       "      <td>U</td>\n",
       "      <td>71</td>\n",
       "      <td>NaT</td>\n",
       "      <td>Programmer II</td>\n",
       "      <td>IT</td>\n",
       "      <td>Mass Customer</td>\n",
       "      <td>N</td>\n",
       "      <td>Yes</td>\n",
       "      <td>11</td>\n",
       "      <td>5675 Burning Wood Trail</td>\n",
       "      <td>3030</td>\n",
       "      <td>VIC</td>\n",
       "      <td>Australia</td>\n",
       "      <td>7</td>\n",
       "      <td>361</td>\n",
       "      <td>0.977500</td>\n",
       "    </tr>\n",
       "    <tr>\n",
       "      <th>374</th>\n",
       "      <td>Agneta</td>\n",
       "      <td>McAmish</td>\n",
       "      <td>U</td>\n",
       "      <td>66</td>\n",
       "      <td>NaT</td>\n",
       "      <td>Structural Analysis Engineer</td>\n",
       "      <td>IT</td>\n",
       "      <td>Mass Customer</td>\n",
       "      <td>N</td>\n",
       "      <td>No</td>\n",
       "      <td>15</td>\n",
       "      <td>5773 Acker Way</td>\n",
       "      <td>4207</td>\n",
       "      <td>QLD</td>\n",
       "      <td>Australia</td>\n",
       "      <td>6</td>\n",
       "      <td>375</td>\n",
       "      <td>0.960000</td>\n",
       "    </tr>\n",
       "    <tr>\n",
       "      <th>434</th>\n",
       "      <td>Gregg</td>\n",
       "      <td>Aimeric</td>\n",
       "      <td>U</td>\n",
       "      <td>52</td>\n",
       "      <td>NaT</td>\n",
       "      <td>Internal Auditor</td>\n",
       "      <td>IT</td>\n",
       "      <td>Mass Customer</td>\n",
       "      <td>N</td>\n",
       "      <td>No</td>\n",
       "      <td>7</td>\n",
       "      <td>72423 Surrey Street</td>\n",
       "      <td>3753</td>\n",
       "      <td>VIC</td>\n",
       "      <td>Australia</td>\n",
       "      <td>5</td>\n",
       "      <td>433</td>\n",
       "      <td>0.906250</td>\n",
       "    </tr>\n",
       "    <tr>\n",
       "      <th>439</th>\n",
       "      <td>Johna</td>\n",
       "      <td>Bunker</td>\n",
       "      <td>U</td>\n",
       "      <td>93</td>\n",
       "      <td>NaT</td>\n",
       "      <td>Tax Accountant</td>\n",
       "      <td>IT</td>\n",
       "      <td>Mass Customer</td>\n",
       "      <td>N</td>\n",
       "      <td>Yes</td>\n",
       "      <td>14</td>\n",
       "      <td>3686 Waubesa Way</td>\n",
       "      <td>3065</td>\n",
       "      <td>VIC</td>\n",
       "      <td>Australia</td>\n",
       "      <td>6</td>\n",
       "      <td>436</td>\n",
       "      <td>0.903125</td>\n",
       "    </tr>\n",
       "    <tr>\n",
       "      <th>574</th>\n",
       "      <td>Harlene</td>\n",
       "      <td>Nono</td>\n",
       "      <td>U</td>\n",
       "      <td>69</td>\n",
       "      <td>NaT</td>\n",
       "      <td>Human Resources Manager</td>\n",
       "      <td>IT</td>\n",
       "      <td>Mass Customer</td>\n",
       "      <td>N</td>\n",
       "      <td>No</td>\n",
       "      <td>12</td>\n",
       "      <td>0307 Namekagon Crossing</td>\n",
       "      <td>2170</td>\n",
       "      <td>NSW</td>\n",
       "      <td>Australia</td>\n",
       "      <td>7</td>\n",
       "      <td>575</td>\n",
       "      <td>0.796875</td>\n",
       "    </tr>\n",
       "    <tr>\n",
       "      <th>598</th>\n",
       "      <td>Gerianne</td>\n",
       "      <td>Kaysor</td>\n",
       "      <td>U</td>\n",
       "      <td>15</td>\n",
       "      <td>NaT</td>\n",
       "      <td>Project Manager</td>\n",
       "      <td>IT</td>\n",
       "      <td>Affluent Customer</td>\n",
       "      <td>N</td>\n",
       "      <td>No</td>\n",
       "      <td>5</td>\n",
       "      <td>882 Toban Lane</td>\n",
       "      <td>2121</td>\n",
       "      <td>NSW</td>\n",
       "      <td>Australia</td>\n",
       "      <td>11</td>\n",
       "      <td>599</td>\n",
       "      <td>0.775000</td>\n",
       "    </tr>\n",
       "    <tr>\n",
       "      <th>664</th>\n",
       "      <td>Chicky</td>\n",
       "      <td>Sinclar</td>\n",
       "      <td>U</td>\n",
       "      <td>43</td>\n",
       "      <td>NaT</td>\n",
       "      <td>Operator</td>\n",
       "      <td>IT</td>\n",
       "      <td>High Net Worth</td>\n",
       "      <td>N</td>\n",
       "      <td>Yes</td>\n",
       "      <td>0</td>\n",
       "      <td>5 Red Cloud Place</td>\n",
       "      <td>3222</td>\n",
       "      <td>VIC</td>\n",
       "      <td>Australia</td>\n",
       "      <td>4</td>\n",
       "      <td>662</td>\n",
       "      <td>0.711875</td>\n",
       "    </tr>\n",
       "    <tr>\n",
       "      <th>751</th>\n",
       "      <td>Adriana</td>\n",
       "      <td>Saundercock</td>\n",
       "      <td>U</td>\n",
       "      <td>20</td>\n",
       "      <td>NaT</td>\n",
       "      <td>Nurse</td>\n",
       "      <td>IT</td>\n",
       "      <td>High Net Worth</td>\n",
       "      <td>N</td>\n",
       "      <td>Yes</td>\n",
       "      <td>14</td>\n",
       "      <td>82 Gina Junction</td>\n",
       "      <td>3806</td>\n",
       "      <td>VIC</td>\n",
       "      <td>Australia</td>\n",
       "      <td>7</td>\n",
       "      <td>751</td>\n",
       "      <td>0.648125</td>\n",
       "    </tr>\n",
       "    <tr>\n",
       "      <th>775</th>\n",
       "      <td>Dmitri</td>\n",
       "      <td>Viant</td>\n",
       "      <td>U</td>\n",
       "      <td>62</td>\n",
       "      <td>NaT</td>\n",
       "      <td>Paralegal</td>\n",
       "      <td>Financial Services</td>\n",
       "      <td>Affluent Customer</td>\n",
       "      <td>N</td>\n",
       "      <td>No</td>\n",
       "      <td>5</td>\n",
       "      <td>95960 Warner Parkway</td>\n",
       "      <td>3842</td>\n",
       "      <td>VIC</td>\n",
       "      <td>Australia</td>\n",
       "      <td>1</td>\n",
       "      <td>774</td>\n",
       "      <td>0.626875</td>\n",
       "    </tr>\n",
       "    <tr>\n",
       "      <th>835</th>\n",
       "      <td>Porty</td>\n",
       "      <td>Hansed</td>\n",
       "      <td>U</td>\n",
       "      <td>88</td>\n",
       "      <td>NaT</td>\n",
       "      <td>General Manager</td>\n",
       "      <td>IT</td>\n",
       "      <td>Mass Customer</td>\n",
       "      <td>N</td>\n",
       "      <td>No</td>\n",
       "      <td>13</td>\n",
       "      <td>768 Southridge Drive</td>\n",
       "      <td>2112</td>\n",
       "      <td>NSW</td>\n",
       "      <td>Australia</td>\n",
       "      <td>11</td>\n",
       "      <td>832</td>\n",
       "      <td>0.575000</td>\n",
       "    </tr>\n",
       "    <tr>\n",
       "      <th>883</th>\n",
       "      <td>Shara</td>\n",
       "      <td>Bramhill</td>\n",
       "      <td>U</td>\n",
       "      <td>24</td>\n",
       "      <td>NaT</td>\n",
       "      <td>NaN</td>\n",
       "      <td>IT</td>\n",
       "      <td>Affluent Customer</td>\n",
       "      <td>N</td>\n",
       "      <td>No</td>\n",
       "      <td>2</td>\n",
       "      <td>01 Bunker Hill Drive</td>\n",
       "      <td>2230</td>\n",
       "      <td>NSW</td>\n",
       "      <td>Australia</td>\n",
       "      <td>10</td>\n",
       "      <td>883</td>\n",
       "      <td>0.531250</td>\n",
       "    </tr>\n",
       "    <tr>\n",
       "      <th>904</th>\n",
       "      <td>Roth</td>\n",
       "      <td>Crum</td>\n",
       "      <td>U</td>\n",
       "      <td>0</td>\n",
       "      <td>NaT</td>\n",
       "      <td>Legal Assistant</td>\n",
       "      <td>IT</td>\n",
       "      <td>Mass Customer</td>\n",
       "      <td>N</td>\n",
       "      <td>No</td>\n",
       "      <td>2</td>\n",
       "      <td>276 Anthes Court</td>\n",
       "      <td>2450</td>\n",
       "      <td>NSW</td>\n",
       "      <td>Australia</td>\n",
       "      <td>6</td>\n",
       "      <td>904</td>\n",
       "      <td>0.500000</td>\n",
       "    </tr>\n",
       "    <tr>\n",
       "      <th>984</th>\n",
       "      <td>Pauline</td>\n",
       "      <td>Dallosso</td>\n",
       "      <td>U</td>\n",
       "      <td>82</td>\n",
       "      <td>NaT</td>\n",
       "      <td>Desktop Support Technician</td>\n",
       "      <td>IT</td>\n",
       "      <td>Affluent Customer</td>\n",
       "      <td>N</td>\n",
       "      <td>Yes</td>\n",
       "      <td>0</td>\n",
       "      <td>9594 Badeau Street</td>\n",
       "      <td>2050</td>\n",
       "      <td>NSW</td>\n",
       "      <td>Australia</td>\n",
       "      <td>10</td>\n",
       "      <td>985</td>\n",
       "      <td>0.408000</td>\n",
       "    </tr>\n",
       "  </tbody>\n",
       "</table>\n",
       "</div>"
      ],
      "text/plain": [
       "    first_name    last_name gender  past_3_years_bike_related_purchases DOB  \\\n",
       "59       Normy     Goodinge      U                                    5 NaT   \n",
       "226      Hatti     Carletti      U                                   35 NaT   \n",
       "324   Rozamond       Turtle      U                                   69 NaT   \n",
       "358      Tamas      Swatman      U                                   65 NaT   \n",
       "360      Tracy   Andrejevic      U                                   71 NaT   \n",
       "374     Agneta      McAmish      U                                   66 NaT   \n",
       "434      Gregg      Aimeric      U                                   52 NaT   \n",
       "439      Johna       Bunker      U                                   93 NaT   \n",
       "574    Harlene         Nono      U                                   69 NaT   \n",
       "598   Gerianne       Kaysor      U                                   15 NaT   \n",
       "664     Chicky      Sinclar      U                                   43 NaT   \n",
       "751    Adriana  Saundercock      U                                   20 NaT   \n",
       "775     Dmitri        Viant      U                                   62 NaT   \n",
       "835      Porty       Hansed      U                                   88 NaT   \n",
       "883      Shara     Bramhill      U                                   24 NaT   \n",
       "904       Roth         Crum      U                                    0 NaT   \n",
       "984    Pauline     Dallosso      U                                   82 NaT   \n",
       "\n",
       "                        job_title job_industry_category     wealth_segment  \\\n",
       "59            Associate Professor                    IT      Mass Customer   \n",
       "226               Legal Assistant                    IT  Affluent Customer   \n",
       "324               Legal Assistant                    IT      Mass Customer   \n",
       "358       Assistant Media Planner         Entertainment  Affluent Customer   \n",
       "360                 Programmer II                    IT      Mass Customer   \n",
       "374  Structural Analysis Engineer                    IT      Mass Customer   \n",
       "434              Internal Auditor                    IT      Mass Customer   \n",
       "439                Tax Accountant                    IT      Mass Customer   \n",
       "574       Human Resources Manager                    IT      Mass Customer   \n",
       "598               Project Manager                    IT  Affluent Customer   \n",
       "664                      Operator                    IT     High Net Worth   \n",
       "751                         Nurse                    IT     High Net Worth   \n",
       "775                     Paralegal    Financial Services  Affluent Customer   \n",
       "835               General Manager                    IT      Mass Customer   \n",
       "883                           NaN                    IT  Affluent Customer   \n",
       "904               Legal Assistant                    IT      Mass Customer   \n",
       "984    Desktop Support Technician                    IT  Affluent Customer   \n",
       "\n",
       "    deceased_indicator owns_car  tenure                  address  postcode  \\\n",
       "59                   N       No       4      7232 Fulton Parkway      3810   \n",
       "226                  N      Yes      11            6 Iowa Center      2519   \n",
       "324                  N      Yes       3  57025 New Castle Street      3850   \n",
       "358                  N       No       5       78 Clarendon Drive      4551   \n",
       "360                  N      Yes      11  5675 Burning Wood Trail      3030   \n",
       "374                  N       No      15           5773 Acker Way      4207   \n",
       "434                  N       No       7      72423 Surrey Street      3753   \n",
       "439                  N      Yes      14         3686 Waubesa Way      3065   \n",
       "574                  N       No      12  0307 Namekagon Crossing      2170   \n",
       "598                  N       No       5           882 Toban Lane      2121   \n",
       "664                  N      Yes       0        5 Red Cloud Place      3222   \n",
       "751                  N      Yes      14         82 Gina Junction      3806   \n",
       "775                  N       No       5     95960 Warner Parkway      3842   \n",
       "835                  N       No      13     768 Southridge Drive      2112   \n",
       "883                  N       No       2     01 Bunker Hill Drive      2230   \n",
       "904                  N       No       2         276 Anthes Court      2450   \n",
       "984                  N      Yes       0       9594 Badeau Street      2050   \n",
       "\n",
       "    state    country  property_valuation  Rank     Value  \n",
       "59    VIC  Australia                   5    57  1.375000  \n",
       "226   NSW  Australia                   9   226  1.112500  \n",
       "324   VIC  Australia                   3   324  1.010000  \n",
       "358   QLD  Australia                   8   358  0.980000  \n",
       "360   VIC  Australia                   7   361  0.977500  \n",
       "374   QLD  Australia                   6   375  0.960000  \n",
       "434   VIC  Australia                   5   433  0.906250  \n",
       "439   VIC  Australia                   6   436  0.903125  \n",
       "574   NSW  Australia                   7   575  0.796875  \n",
       "598   NSW  Australia                  11   599  0.775000  \n",
       "664   VIC  Australia                   4   662  0.711875  \n",
       "751   VIC  Australia                   7   751  0.648125  \n",
       "775   VIC  Australia                   1   774  0.626875  \n",
       "835   NSW  Australia                  11   832  0.575000  \n",
       "883   NSW  Australia                  10   883  0.531250  \n",
       "904   NSW  Australia                   6   904  0.500000  \n",
       "984   NSW  Australia                  10   985  0.408000  "
      ]
     },
     "execution_count": 78,
     "metadata": {},
     "output_type": "execute_result"
    }
   ],
   "source": [
    "NewCustomerList[NewCustomerList.gender == 'U']"
   ]
  },
  {
   "cell_type": "markdown",
   "id": "89f763a2-5d71-4ba4-aa0a-b7e089c11f95",
   "metadata": {},
   "source": [
    "> Unspecified/unknown gender found in 17 rows."
   ]
  },
  {
   "cell_type": "code",
   "execution_count": 79,
   "id": "00c1d543-c800-4b69-b258-80b1e9cdb903",
   "metadata": {},
   "outputs": [
    {
     "data": {
      "text/plain": [
       "1998-02-05    2\n",
       "1978-01-15    2\n",
       "1977-11-08    2\n",
       "1951-11-28    2\n",
       "1979-07-28    2\n",
       "             ..\n",
       "1945-08-08    1\n",
       "1943-08-27    1\n",
       "1999-10-24    1\n",
       "1976-01-24    1\n",
       "1955-10-02    1\n",
       "Name: DOB, Length: 958, dtype: int64"
      ]
     },
     "execution_count": 79,
     "metadata": {},
     "output_type": "execute_result"
    }
   ],
   "source": [
    "NewCustomerList['DOB'].value_counts()"
   ]
  },
  {
   "cell_type": "code",
   "execution_count": 82,
   "id": "02ce178e-329c-4954-8979-4abb65397e0c",
   "metadata": {},
   "outputs": [
    {
     "data": {
      "text/plain": [
       "Financial Services    203\n",
       "Manufacturing         199\n",
       "Health                152\n",
       "Retail                 78\n",
       "Property               64\n",
       "IT                     51\n",
       "Entertainment          37\n",
       "Argiculture            26\n",
       "Telecommunications     25\n",
       "Name: job_industry_category, dtype: int64"
      ]
     },
     "execution_count": 82,
     "metadata": {},
     "output_type": "execute_result"
    }
   ],
   "source": [
    "NewCustomerList['job_industry_category'].value_counts()"
   ]
  },
  {
   "cell_type": "code",
   "execution_count": 83,
   "id": "0122da95-2f40-4163-854f-10cbd333fee2",
   "metadata": {},
   "outputs": [
    {
     "data": {
      "text/plain": [
       "Mass Customer        508\n",
       "High Net Worth       251\n",
       "Affluent Customer    241\n",
       "Name: wealth_segment, dtype: int64"
      ]
     },
     "execution_count": 83,
     "metadata": {},
     "output_type": "execute_result"
    }
   ],
   "source": [
    "NewCustomerList['wealth_segment'].value_counts()"
   ]
  },
  {
   "cell_type": "code",
   "execution_count": 84,
   "id": "f8d5381c-501e-4c2d-8040-b7a7351e7939",
   "metadata": {},
   "outputs": [
    {
     "data": {
      "text/plain": [
       "NSW    506\n",
       "VIC    266\n",
       "QLD    228\n",
       "Name: state, dtype: int64"
      ]
     },
     "execution_count": 84,
     "metadata": {},
     "output_type": "execute_result"
    }
   ],
   "source": [
    "NewCustomerList['state'].value_counts()"
   ]
  },
  {
   "cell_type": "code",
   "execution_count": 86,
   "id": "b03399e2-c695-4b37-81a2-41688ab5d645",
   "metadata": {},
   "outputs": [
    {
     "data": {
      "text/plain": [
       "No     507\n",
       "Yes    493\n",
       "Name: owns_car, dtype: int64"
      ]
     },
     "execution_count": 86,
     "metadata": {},
     "output_type": "execute_result"
    }
   ],
   "source": [
    "NewCustomerList['owns_car'].value_counts()"
   ]
  },
  {
   "cell_type": "code",
   "execution_count": 87,
   "id": "31de331e-8b33-47c6-914a-ea002decbffc",
   "metadata": {},
   "outputs": [
    {
     "data": {
      "text/plain": [
       "N    1000\n",
       "Name: deceased_indicator, dtype: int64"
      ]
     },
     "execution_count": 87,
     "metadata": {},
     "output_type": "execute_result"
    }
   ],
   "source": [
    "NewCustomerList['deceased_indicator'].value_counts()"
   ]
  },
  {
   "cell_type": "markdown",
   "id": "2c5c0e93-deba-4861-b1ee-84f844cc83c0",
   "metadata": {},
   "source": [
    "## Exploring Customer Demographic Data Set"
   ]
  },
  {
   "cell_type": "code",
   "execution_count": 89,
   "id": "1e73bc52-e693-4975-bc1f-05dc6cd3321a",
   "metadata": {},
   "outputs": [
    {
     "data": {
      "text/html": [
       "<div>\n",
       "<style scoped>\n",
       "    .dataframe tbody tr th:only-of-type {\n",
       "        vertical-align: middle;\n",
       "    }\n",
       "\n",
       "    .dataframe tbody tr th {\n",
       "        vertical-align: top;\n",
       "    }\n",
       "\n",
       "    .dataframe thead th {\n",
       "        text-align: right;\n",
       "    }\n",
       "</style>\n",
       "<table border=\"1\" class=\"dataframe\">\n",
       "  <thead>\n",
       "    <tr style=\"text-align: right;\">\n",
       "      <th></th>\n",
       "      <th>customer_id</th>\n",
       "      <th>first_name</th>\n",
       "      <th>last_name</th>\n",
       "      <th>gender</th>\n",
       "      <th>past_3_years_bike_related_purchases</th>\n",
       "      <th>DOB</th>\n",
       "      <th>job_title</th>\n",
       "      <th>job_industry_category</th>\n",
       "      <th>wealth_segment</th>\n",
       "      <th>deceased_indicator</th>\n",
       "      <th>default</th>\n",
       "      <th>owns_car</th>\n",
       "      <th>tenure</th>\n",
       "    </tr>\n",
       "  </thead>\n",
       "  <tbody>\n",
       "    <tr>\n",
       "      <th>0</th>\n",
       "      <td>720</td>\n",
       "      <td>Darrel</td>\n",
       "      <td>Canet</td>\n",
       "      <td>Male</td>\n",
       "      <td>67</td>\n",
       "      <td>1931-10-23</td>\n",
       "      <td>Recruiting Manager</td>\n",
       "      <td>Retail</td>\n",
       "      <td>Affluent Customer</td>\n",
       "      <td>N</td>\n",
       "      <td>1;DROP TABLE users</td>\n",
       "      <td>No</td>\n",
       "      <td>6.0</td>\n",
       "    </tr>\n",
       "    <tr>\n",
       "      <th>1</th>\n",
       "      <td>1092</td>\n",
       "      <td>Katlin</td>\n",
       "      <td>Creddon</td>\n",
       "      <td>Female</td>\n",
       "      <td>56</td>\n",
       "      <td>1935-08-22</td>\n",
       "      <td>VP Quality Control</td>\n",
       "      <td>Retail</td>\n",
       "      <td>Mass Customer</td>\n",
       "      <td>N</td>\n",
       "      <td>ì¬íê³¼íì ì´íì°êµ¬ì</td>\n",
       "      <td>No</td>\n",
       "      <td>5.0</td>\n",
       "    </tr>\n",
       "    <tr>\n",
       "      <th>2</th>\n",
       "      <td>3410</td>\n",
       "      <td>Merrili</td>\n",
       "      <td>Brittin</td>\n",
       "      <td>Female</td>\n",
       "      <td>93</td>\n",
       "      <td>1940-09-22</td>\n",
       "      <td>NaN</td>\n",
       "      <td>Property</td>\n",
       "      <td>Mass Customer</td>\n",
       "      <td>N</td>\n",
       "      <td>á</td>\n",
       "      <td>No</td>\n",
       "      <td>16.0</td>\n",
       "    </tr>\n",
       "    <tr>\n",
       "      <th>3</th>\n",
       "      <td>2413</td>\n",
       "      <td>Abbey</td>\n",
       "      <td>Murrow</td>\n",
       "      <td>Male</td>\n",
       "      <td>27</td>\n",
       "      <td>1943-08-11</td>\n",
       "      <td>Environmental Specialist</td>\n",
       "      <td>Manufacturing</td>\n",
       "      <td>High Net Worth</td>\n",
       "      <td>N</td>\n",
       "      <td>á</td>\n",
       "      <td>Yes</td>\n",
       "      <td>17.0</td>\n",
       "    </tr>\n",
       "    <tr>\n",
       "      <th>4</th>\n",
       "      <td>658</td>\n",
       "      <td>Donn</td>\n",
       "      <td>Bonnell</td>\n",
       "      <td>Male</td>\n",
       "      <td>38</td>\n",
       "      <td>1944-01-24</td>\n",
       "      <td>Tax Accountant</td>\n",
       "      <td>Manufacturing</td>\n",
       "      <td>Affluent Customer</td>\n",
       "      <td>N</td>\n",
       "      <td>ì¬íê³¼íì ì´íì°êµ¬ì</td>\n",
       "      <td>Yes</td>\n",
       "      <td>8.0</td>\n",
       "    </tr>\n",
       "  </tbody>\n",
       "</table>\n",
       "</div>"
      ],
      "text/plain": [
       "   customer_id first_name last_name  gender  \\\n",
       "0          720     Darrel     Canet    Male   \n",
       "1         1092     Katlin   Creddon  Female   \n",
       "2         3410    Merrili   Brittin  Female   \n",
       "3         2413      Abbey    Murrow    Male   \n",
       "4          658       Donn   Bonnell    Male   \n",
       "\n",
       "   past_3_years_bike_related_purchases        DOB                 job_title  \\\n",
       "0                                   67 1931-10-23        Recruiting Manager   \n",
       "1                                   56 1935-08-22        VP Quality Control   \n",
       "2                                   93 1940-09-22                       NaN   \n",
       "3                                   27 1943-08-11  Environmental Specialist   \n",
       "4                                   38 1944-01-24            Tax Accountant   \n",
       "\n",
       "  job_industry_category     wealth_segment deceased_indicator  \\\n",
       "0                Retail  Affluent Customer                  N   \n",
       "1                Retail      Mass Customer                  N   \n",
       "2              Property      Mass Customer                  N   \n",
       "3         Manufacturing     High Net Worth                  N   \n",
       "4         Manufacturing  Affluent Customer                  N   \n",
       "\n",
       "              default owns_car  tenure  \n",
       "0  1;DROP TABLE users       No     6.0  \n",
       "1  ì¬íê³¼íì ì´íì°êµ¬ì       No     5.0  \n",
       "2                   á       No    16.0  \n",
       "3                  á       Yes    17.0  \n",
       "4  ì¬íê³¼íì ì´íì°êµ¬ì      Yes     8.0  "
      ]
     },
     "execution_count": 89,
     "metadata": {},
     "output_type": "execute_result"
    }
   ],
   "source": [
    "CustomerDemographic.head()"
   ]
  },
  {
   "cell_type": "code",
   "execution_count": 90,
   "id": "ddb40614-11ec-4618-8ce9-cd9a370e40cb",
   "metadata": {},
   "outputs": [
    {
     "name": "stdout",
     "output_type": "stream",
     "text": [
      "<class 'pandas.core.frame.DataFrame'>\n",
      "RangeIndex: 4000 entries, 0 to 3999\n",
      "Data columns (total 13 columns):\n",
      " #   Column                               Non-Null Count  Dtype         \n",
      "---  ------                               --------------  -----         \n",
      " 0   customer_id                          4000 non-null   int64         \n",
      " 1   first_name                           4000 non-null   object        \n",
      " 2   last_name                            3875 non-null   object        \n",
      " 3   gender                               4000 non-null   object        \n",
      " 4   past_3_years_bike_related_purchases  4000 non-null   int64         \n",
      " 5   DOB                                  3913 non-null   datetime64[ns]\n",
      " 6   job_title                            3494 non-null   object        \n",
      " 7   job_industry_category                3344 non-null   object        \n",
      " 8   wealth_segment                       4000 non-null   object        \n",
      " 9   deceased_indicator                   4000 non-null   object        \n",
      " 10  default                              3698 non-null   object        \n",
      " 11  owns_car                             4000 non-null   object        \n",
      " 12  tenure                               3913 non-null   float64       \n",
      "dtypes: datetime64[ns](1), float64(1), int64(2), object(9)\n",
      "memory usage: 406.4+ KB\n"
     ]
    }
   ],
   "source": [
    "CustomerDemographic.info()"
   ]
  },
  {
   "cell_type": "code",
   "execution_count": 91,
   "id": "6b8175be-984a-462f-b404-a7e7ec70524c",
   "metadata": {},
   "outputs": [
    {
     "data": {
      "text/plain": [
       "customer_id                              0\n",
       "first_name                               0\n",
       "last_name                              125\n",
       "gender                                   0\n",
       "past_3_years_bike_related_purchases      0\n",
       "DOB                                     87\n",
       "job_title                              506\n",
       "job_industry_category                  656\n",
       "wealth_segment                           0\n",
       "deceased_indicator                       0\n",
       "default                                302\n",
       "owns_car                                 0\n",
       "tenure                                  87\n",
       "dtype: int64"
      ]
     },
     "execution_count": 91,
     "metadata": {},
     "output_type": "execute_result"
    }
   ],
   "source": [
    "CustomerDemographic.isnull().sum()"
   ]
  },
  {
   "cell_type": "markdown",
   "id": "c1475943-b17c-4184-9fb3-48620fd081fc",
   "metadata": {},
   "source": [
    "> Missing values were found in 6 columns."
   ]
  },
  {
   "cell_type": "code",
   "execution_count": 92,
   "id": "b2c99a97-4d24-4bfe-a36e-8f21730412f1",
   "metadata": {},
   "outputs": [
    {
     "data": {
      "text/plain": [
       "0"
      ]
     },
     "execution_count": 92,
     "metadata": {},
     "output_type": "execute_result"
    }
   ],
   "source": [
    "CustomerDemographic.duplicated().sum()"
   ]
  },
  {
   "cell_type": "markdown",
   "id": "27459d1c-052c-48ca-816a-7042cd238369",
   "metadata": {},
   "source": [
    "> No duplicate values"
   ]
  },
  {
   "cell_type": "code",
   "execution_count": 93,
   "id": "16d592aa-6170-4720-8772-e6fcffb3e028",
   "metadata": {},
   "outputs": [
    {
     "data": {
      "text/plain": [
       "customer_id                            4000\n",
       "first_name                             3139\n",
       "last_name                              3725\n",
       "gender                                    6\n",
       "past_3_years_bike_related_purchases     100\n",
       "DOB                                    3448\n",
       "job_title                               195\n",
       "job_industry_category                     9\n",
       "wealth_segment                            3\n",
       "deceased_indicator                        2\n",
       "default                                  90\n",
       "owns_car                                  2\n",
       "tenure                                   22\n",
       "dtype: int64"
      ]
     },
     "execution_count": 93,
     "metadata": {},
     "output_type": "execute_result"
    }
   ],
   "source": [
    "CustomerDemographic.nunique()"
   ]
  },
  {
   "cell_type": "markdown",
   "id": "331cb465-d792-443d-b7a5-5433b324b23f",
   "metadata": {},
   "source": [
    "### Exploring the columns"
   ]
  },
  {
   "cell_type": "code",
   "execution_count": 94,
   "id": "381f231b-ed6b-4a02-a88b-db8db71c9f68",
   "metadata": {},
   "outputs": [
    {
     "data": {
      "text/plain": [
       "Index(['customer_id', 'first_name', 'last_name', 'gender',\n",
       "       'past_3_years_bike_related_purchases', 'DOB', 'job_title',\n",
       "       'job_industry_category', 'wealth_segment', 'deceased_indicator',\n",
       "       'default', 'owns_car', 'tenure'],\n",
       "      dtype='object')"
      ]
     },
     "execution_count": 94,
     "metadata": {},
     "output_type": "execute_result"
    }
   ],
   "source": [
    "CustomerDemographic.columns"
   ]
  },
  {
   "cell_type": "code",
   "execution_count": 96,
   "id": "80a9b7ed-7e3e-4bf5-9baa-f01d469e7a73",
   "metadata": {},
   "outputs": [
    {
     "data": {
      "text/plain": [
       "Female    2037\n",
       "Male      1872\n",
       "U           88\n",
       "F            1\n",
       "Femal        1\n",
       "M            1\n",
       "Name: gender, dtype: int64"
      ]
     },
     "execution_count": 96,
     "metadata": {},
     "output_type": "execute_result"
    }
   ],
   "source": [
    "CustomerDemographic['gender'].value_counts()"
   ]
  },
  {
   "cell_type": "code",
   "execution_count": 99,
   "id": "cdd7f563-d5e1-4b85-bcba-6868697fd34c",
   "metadata": {},
   "outputs": [
    {
     "data": {
      "text/plain": [
       "Female         2039\n",
       "Male           1873\n",
       "Unspecified      88\n",
       "Name: gender, dtype: int64"
      ]
     },
     "execution_count": 99,
     "metadata": {},
     "output_type": "execute_result"
    }
   ],
   "source": [
    "# Rename the categories of gender\n",
    "\n",
    "CustomerDemographic['gender'] = CustomerDemographic['gender'].replace('F', 'Female').replace('M','Male').replace('Femal','Female').replace('U','Unspecified')\n",
    "CustomerDemographic['gender'].value_counts()"
   ]
  },
  {
   "cell_type": "code",
   "execution_count": 100,
   "id": "1f6d9ca7-cace-4cba-800f-8154e50221eb",
   "metadata": {},
   "outputs": [
    {
     "data": {
      "text/plain": [
       "16    56\n",
       "19    56\n",
       "67    54\n",
       "20    54\n",
       "2     50\n",
       "      ..\n",
       "8     28\n",
       "86    27\n",
       "85    27\n",
       "95    27\n",
       "92    24\n",
       "Name: past_3_years_bike_related_purchases, Length: 100, dtype: int64"
      ]
     },
     "execution_count": 100,
     "metadata": {},
     "output_type": "execute_result"
    }
   ],
   "source": [
    "CustomerDemographic['past_3_years_bike_related_purchases'].value_counts()"
   ]
  },
  {
   "cell_type": "code",
   "execution_count": 101,
   "id": "dd7dea24-fc44-4c3c-b9ce-03c7d87e2a44",
   "metadata": {},
   "outputs": [
    {
     "data": {
      "text/plain": [
       "1978-01-30    7\n",
       "1978-08-19    4\n",
       "1976-09-25    4\n",
       "1976-07-16    4\n",
       "1962-12-17    4\n",
       "             ..\n",
       "1972-07-11    1\n",
       "1972-07-17    1\n",
       "1972-07-26    1\n",
       "1972-07-30    1\n",
       "1843-12-21    1\n",
       "Name: DOB, Length: 3448, dtype: int64"
      ]
     },
     "execution_count": 101,
     "metadata": {},
     "output_type": "execute_result"
    }
   ],
   "source": [
    "CustomerDemographic['DOB'].value_counts()"
   ]
  },
  {
   "cell_type": "code",
   "execution_count": 102,
   "id": "09cf0eeb-56ff-48bb-a386-b6b08491869d",
   "metadata": {},
   "outputs": [
    {
     "data": {
      "text/plain": [
       "Business Systems Development Analyst    45\n",
       "Social Worker                           44\n",
       "Tax Accountant                          44\n",
       "Internal Auditor                        42\n",
       "Legal Assistant                         41\n",
       "                                        ..\n",
       "Human Resources Assistant IV             4\n",
       "Research Assistant III                   3\n",
       "Health Coach I                           3\n",
       "Health Coach III                         3\n",
       "Developer I                              1\n",
       "Name: job_title, Length: 195, dtype: int64"
      ]
     },
     "execution_count": 102,
     "metadata": {},
     "output_type": "execute_result"
    }
   ],
   "source": [
    "CustomerDemographic['job_title'].value_counts()"
   ]
  },
  {
   "cell_type": "code",
   "execution_count": 103,
   "id": "3f5f1c8b-ba03-492f-bac0-fe9b62beaad8",
   "metadata": {},
   "outputs": [
    {
     "data": {
      "text/plain": [
       "Manufacturing         799\n",
       "Financial Services    774\n",
       "Health                602\n",
       "Retail                358\n",
       "Property              267\n",
       "IT                    223\n",
       "Entertainment         136\n",
       "Argiculture           113\n",
       "Telecommunications     72\n",
       "Name: job_industry_category, dtype: int64"
      ]
     },
     "execution_count": 103,
     "metadata": {},
     "output_type": "execute_result"
    }
   ],
   "source": [
    "CustomerDemographic['job_industry_category'].value_counts()"
   ]
  },
  {
   "cell_type": "code",
   "execution_count": 104,
   "id": "e4ae8d0e-7ac8-479d-89e3-e52c492f4d91",
   "metadata": {},
   "outputs": [
    {
     "data": {
      "text/plain": [
       "N    3998\n",
       "Y       2\n",
       "Name: deceased_indicator, dtype: int64"
      ]
     },
     "execution_count": 104,
     "metadata": {},
     "output_type": "execute_result"
    }
   ],
   "source": [
    "CustomerDemographic['deceased_indicator'].value_counts()"
   ]
  },
  {
   "cell_type": "code",
   "execution_count": 105,
   "id": "79ff3129-d014-42f7-a8a4-e35a74fd5968",
   "metadata": {},
   "outputs": [
    {
     "data": {
      "text/plain": [
       "100                                       113\n",
       "1                                         112\n",
       "-1                                        111\n",
       "-100                                       99\n",
       "Ù¡Ù¢Ù£                                     53\n",
       "                                         ... \n",
       "<img src=x onerror=alert('hi') />          31\n",
       "/dev/null; touch /tmp/blns.fail ; echo     30\n",
       "âªâªtestâª                                 29\n",
       "ì¸ëë°í ë¥´                                 27\n",
       ",ãã»:*:ã»ãâ( â» Ï â» )ãã»:*:ã»ãâ           25\n",
       "Name: default, Length: 90, dtype: int64"
      ]
     },
     "execution_count": 105,
     "metadata": {},
     "output_type": "execute_result"
    }
   ],
   "source": [
    "CustomerDemographic['default'].value_counts()"
   ]
  },
  {
   "cell_type": "code",
   "execution_count": 106,
   "id": "a40df600-0f54-4ddd-9546-5981d0c9dcf8",
   "metadata": {},
   "outputs": [],
   "source": [
    "CustomerDemographic = CustomerDemographic.drop('default', axis=1)"
   ]
  },
  {
   "cell_type": "markdown",
   "id": "676b1fe1-b048-4ec0-bec4-5a0cb425ea17",
   "metadata": {},
   "source": [
    "> The values are inconsistent, so dropping the column."
   ]
  },
  {
   "cell_type": "code",
   "execution_count": 108,
   "id": "6bb37b49-1c1a-41e7-816e-0699b51d3b0b",
   "metadata": {},
   "outputs": [
    {
     "data": {
      "text/html": [
       "<div>\n",
       "<style scoped>\n",
       "    .dataframe tbody tr th:only-of-type {\n",
       "        vertical-align: middle;\n",
       "    }\n",
       "\n",
       "    .dataframe tbody tr th {\n",
       "        vertical-align: top;\n",
       "    }\n",
       "\n",
       "    .dataframe thead th {\n",
       "        text-align: right;\n",
       "    }\n",
       "</style>\n",
       "<table border=\"1\" class=\"dataframe\">\n",
       "  <thead>\n",
       "    <tr style=\"text-align: right;\">\n",
       "      <th></th>\n",
       "      <th>customer_id</th>\n",
       "      <th>first_name</th>\n",
       "      <th>last_name</th>\n",
       "      <th>gender</th>\n",
       "      <th>past_3_years_bike_related_purchases</th>\n",
       "      <th>DOB</th>\n",
       "      <th>job_title</th>\n",
       "      <th>job_industry_category</th>\n",
       "      <th>wealth_segment</th>\n",
       "      <th>deceased_indicator</th>\n",
       "      <th>owns_car</th>\n",
       "      <th>tenure</th>\n",
       "    </tr>\n",
       "  </thead>\n",
       "  <tbody>\n",
       "    <tr>\n",
       "      <th>0</th>\n",
       "      <td>720</td>\n",
       "      <td>Darrel</td>\n",
       "      <td>Canet</td>\n",
       "      <td>Male</td>\n",
       "      <td>67</td>\n",
       "      <td>1931-10-23</td>\n",
       "      <td>Recruiting Manager</td>\n",
       "      <td>Retail</td>\n",
       "      <td>Affluent Customer</td>\n",
       "      <td>N</td>\n",
       "      <td>No</td>\n",
       "      <td>6.0</td>\n",
       "    </tr>\n",
       "    <tr>\n",
       "      <th>1</th>\n",
       "      <td>1092</td>\n",
       "      <td>Katlin</td>\n",
       "      <td>Creddon</td>\n",
       "      <td>Female</td>\n",
       "      <td>56</td>\n",
       "      <td>1935-08-22</td>\n",
       "      <td>VP Quality Control</td>\n",
       "      <td>Retail</td>\n",
       "      <td>Mass Customer</td>\n",
       "      <td>N</td>\n",
       "      <td>No</td>\n",
       "      <td>5.0</td>\n",
       "    </tr>\n",
       "    <tr>\n",
       "      <th>2</th>\n",
       "      <td>3410</td>\n",
       "      <td>Merrili</td>\n",
       "      <td>Brittin</td>\n",
       "      <td>Female</td>\n",
       "      <td>93</td>\n",
       "      <td>1940-09-22</td>\n",
       "      <td>NaN</td>\n",
       "      <td>Property</td>\n",
       "      <td>Mass Customer</td>\n",
       "      <td>N</td>\n",
       "      <td>No</td>\n",
       "      <td>16.0</td>\n",
       "    </tr>\n",
       "    <tr>\n",
       "      <th>3</th>\n",
       "      <td>2413</td>\n",
       "      <td>Abbey</td>\n",
       "      <td>Murrow</td>\n",
       "      <td>Male</td>\n",
       "      <td>27</td>\n",
       "      <td>1943-08-11</td>\n",
       "      <td>Environmental Specialist</td>\n",
       "      <td>Manufacturing</td>\n",
       "      <td>High Net Worth</td>\n",
       "      <td>N</td>\n",
       "      <td>Yes</td>\n",
       "      <td>17.0</td>\n",
       "    </tr>\n",
       "    <tr>\n",
       "      <th>4</th>\n",
       "      <td>658</td>\n",
       "      <td>Donn</td>\n",
       "      <td>Bonnell</td>\n",
       "      <td>Male</td>\n",
       "      <td>38</td>\n",
       "      <td>1944-01-24</td>\n",
       "      <td>Tax Accountant</td>\n",
       "      <td>Manufacturing</td>\n",
       "      <td>Affluent Customer</td>\n",
       "      <td>N</td>\n",
       "      <td>Yes</td>\n",
       "      <td>8.0</td>\n",
       "    </tr>\n",
       "  </tbody>\n",
       "</table>\n",
       "</div>"
      ],
      "text/plain": [
       "   customer_id first_name last_name  gender  \\\n",
       "0          720     Darrel     Canet    Male   \n",
       "1         1092     Katlin   Creddon  Female   \n",
       "2         3410    Merrili   Brittin  Female   \n",
       "3         2413      Abbey    Murrow    Male   \n",
       "4          658       Donn   Bonnell    Male   \n",
       "\n",
       "   past_3_years_bike_related_purchases        DOB                 job_title  \\\n",
       "0                                   67 1931-10-23        Recruiting Manager   \n",
       "1                                   56 1935-08-22        VP Quality Control   \n",
       "2                                   93 1940-09-22                       NaN   \n",
       "3                                   27 1943-08-11  Environmental Specialist   \n",
       "4                                   38 1944-01-24            Tax Accountant   \n",
       "\n",
       "  job_industry_category     wealth_segment deceased_indicator owns_car  tenure  \n",
       "0                Retail  Affluent Customer                  N       No     6.0  \n",
       "1                Retail      Mass Customer                  N       No     5.0  \n",
       "2              Property      Mass Customer                  N       No    16.0  \n",
       "3         Manufacturing     High Net Worth                  N      Yes    17.0  \n",
       "4         Manufacturing  Affluent Customer                  N      Yes     8.0  "
      ]
     },
     "execution_count": 108,
     "metadata": {},
     "output_type": "execute_result"
    }
   ],
   "source": [
    "CustomerDemographic.head()"
   ]
  },
  {
   "cell_type": "code",
   "execution_count": 109,
   "id": "088880ae-9b32-4dfe-a04f-b054ccabea76",
   "metadata": {},
   "outputs": [
    {
     "data": {
      "text/plain": [
       "Yes    2024\n",
       "No     1976\n",
       "Name: owns_car, dtype: int64"
      ]
     },
     "execution_count": 109,
     "metadata": {},
     "output_type": "execute_result"
    }
   ],
   "source": [
    "CustomerDemographic['owns_car'].value_counts()"
   ]
  },
  {
   "cell_type": "code",
   "execution_count": 110,
   "id": "ba48ecd0-47f8-47a0-ad8a-da854d8332a0",
   "metadata": {},
   "outputs": [
    {
     "data": {
      "text/plain": [
       "7.0     235\n",
       "5.0     228\n",
       "11.0    221\n",
       "10.0    218\n",
       "16.0    215\n",
       "8.0     211\n",
       "18.0    208\n",
       "12.0    202\n",
       "9.0     200\n",
       "14.0    200\n",
       "6.0     192\n",
       "13.0    191\n",
       "4.0     191\n",
       "17.0    182\n",
       "15.0    179\n",
       "1.0     166\n",
       "3.0     160\n",
       "19.0    159\n",
       "2.0     150\n",
       "20.0     96\n",
       "22.0     55\n",
       "21.0     54\n",
       "Name: tenure, dtype: int64"
      ]
     },
     "execution_count": 110,
     "metadata": {},
     "output_type": "execute_result"
    }
   ],
   "source": [
    "CustomerDemographic['tenure'].value_counts()"
   ]
  },
  {
   "cell_type": "markdown",
   "id": "2e8f45c7-31eb-40ed-ac31-415b1686e0ab",
   "metadata": {},
   "source": [
    "## Exploring \"Customer_Address\" Dataset"
   ]
  },
  {
   "cell_type": "code",
   "execution_count": 112,
   "id": "314418c0-4bb7-4ab2-8804-a2d0990e90d6",
   "metadata": {},
   "outputs": [
    {
     "data": {
      "text/html": [
       "<div>\n",
       "<style scoped>\n",
       "    .dataframe tbody tr th:only-of-type {\n",
       "        vertical-align: middle;\n",
       "    }\n",
       "\n",
       "    .dataframe tbody tr th {\n",
       "        vertical-align: top;\n",
       "    }\n",
       "\n",
       "    .dataframe thead th {\n",
       "        text-align: right;\n",
       "    }\n",
       "</style>\n",
       "<table border=\"1\" class=\"dataframe\">\n",
       "  <thead>\n",
       "    <tr style=\"text-align: right;\">\n",
       "      <th></th>\n",
       "      <th>customer_id</th>\n",
       "      <th>address</th>\n",
       "      <th>postcode</th>\n",
       "      <th>state</th>\n",
       "      <th>country</th>\n",
       "      <th>property_valuation</th>\n",
       "    </tr>\n",
       "  </thead>\n",
       "  <tbody>\n",
       "    <tr>\n",
       "      <th>0</th>\n",
       "      <td>1</td>\n",
       "      <td>060 Morning Avenue</td>\n",
       "      <td>2016</td>\n",
       "      <td>New South Wales</td>\n",
       "      <td>Australia</td>\n",
       "      <td>10</td>\n",
       "    </tr>\n",
       "    <tr>\n",
       "      <th>1</th>\n",
       "      <td>2</td>\n",
       "      <td>6 Meadow Vale Court</td>\n",
       "      <td>2153</td>\n",
       "      <td>New South Wales</td>\n",
       "      <td>Australia</td>\n",
       "      <td>10</td>\n",
       "    </tr>\n",
       "    <tr>\n",
       "      <th>2</th>\n",
       "      <td>4</td>\n",
       "      <td>0 Holy Cross Court</td>\n",
       "      <td>4211</td>\n",
       "      <td>QLD</td>\n",
       "      <td>Australia</td>\n",
       "      <td>9</td>\n",
       "    </tr>\n",
       "    <tr>\n",
       "      <th>3</th>\n",
       "      <td>5</td>\n",
       "      <td>17979 Del Mar Point</td>\n",
       "      <td>2448</td>\n",
       "      <td>New South Wales</td>\n",
       "      <td>Australia</td>\n",
       "      <td>4</td>\n",
       "    </tr>\n",
       "    <tr>\n",
       "      <th>4</th>\n",
       "      <td>6</td>\n",
       "      <td>9 Oakridge Court</td>\n",
       "      <td>3216</td>\n",
       "      <td>VIC</td>\n",
       "      <td>Australia</td>\n",
       "      <td>9</td>\n",
       "    </tr>\n",
       "  </tbody>\n",
       "</table>\n",
       "</div>"
      ],
      "text/plain": [
       "   customer_id              address  postcode            state    country  \\\n",
       "0            1   060 Morning Avenue      2016  New South Wales  Australia   \n",
       "1            2  6 Meadow Vale Court      2153  New South Wales  Australia   \n",
       "2            4   0 Holy Cross Court      4211              QLD  Australia   \n",
       "3            5  17979 Del Mar Point      2448  New South Wales  Australia   \n",
       "4            6     9 Oakridge Court      3216              VIC  Australia   \n",
       "\n",
       "   property_valuation  \n",
       "0                  10  \n",
       "1                  10  \n",
       "2                   9  \n",
       "3                   4  \n",
       "4                   9  "
      ]
     },
     "execution_count": 112,
     "metadata": {},
     "output_type": "execute_result"
    }
   ],
   "source": [
    "CustomerAddress.head()"
   ]
  },
  {
   "cell_type": "code",
   "execution_count": 113,
   "id": "f8fbd217-8797-4265-a16c-8b4f34eec1a7",
   "metadata": {},
   "outputs": [
    {
     "name": "stdout",
     "output_type": "stream",
     "text": [
      "<class 'pandas.core.frame.DataFrame'>\n",
      "RangeIndex: 3999 entries, 0 to 3998\n",
      "Data columns (total 6 columns):\n",
      " #   Column              Non-Null Count  Dtype \n",
      "---  ------              --------------  ----- \n",
      " 0   customer_id         3999 non-null   int64 \n",
      " 1   address             3999 non-null   object\n",
      " 2   postcode            3999 non-null   int64 \n",
      " 3   state               3999 non-null   object\n",
      " 4   country             3999 non-null   object\n",
      " 5   property_valuation  3999 non-null   int64 \n",
      "dtypes: int64(3), object(3)\n",
      "memory usage: 187.6+ KB\n"
     ]
    }
   ],
   "source": [
    "CustomerAddress.info()"
   ]
  },
  {
   "cell_type": "code",
   "execution_count": 114,
   "id": "56d5a521-455d-4560-9f1d-442b6fb3981f",
   "metadata": {},
   "outputs": [
    {
     "data": {
      "text/plain": [
       "customer_id           0\n",
       "address               0\n",
       "postcode              0\n",
       "state                 0\n",
       "country               0\n",
       "property_valuation    0\n",
       "dtype: int64"
      ]
     },
     "execution_count": 114,
     "metadata": {},
     "output_type": "execute_result"
    }
   ],
   "source": [
    "CustomerAddress.isnull().sum()"
   ]
  },
  {
   "cell_type": "markdown",
   "id": "d311ea5e-925e-4e1e-9a31-5a0f2537974a",
   "metadata": {},
   "source": [
    "> There are no missing values."
   ]
  },
  {
   "cell_type": "code",
   "execution_count": 115,
   "id": "ec0bee2e-5895-46d4-9cf5-354a8acadd73",
   "metadata": {},
   "outputs": [
    {
     "data": {
      "text/plain": [
       "0"
      ]
     },
     "execution_count": 115,
     "metadata": {},
     "output_type": "execute_result"
    }
   ],
   "source": [
    "CustomerAddress.duplicated().sum()"
   ]
  },
  {
   "cell_type": "markdown",
   "id": "1f7637fb-ba0e-4728-845e-cdc93b502919",
   "metadata": {},
   "source": [
    "> There are no duplicate values."
   ]
  },
  {
   "cell_type": "code",
   "execution_count": 116,
   "id": "fc43adbc-6965-4d15-95b0-6cc7fc7a2f52",
   "metadata": {},
   "outputs": [
    {
     "data": {
      "text/plain": [
       "customer_id           3999\n",
       "address               3996\n",
       "postcode               873\n",
       "state                    5\n",
       "country                  1\n",
       "property_valuation      12\n",
       "dtype: int64"
      ]
     },
     "execution_count": 116,
     "metadata": {},
     "output_type": "execute_result"
    }
   ],
   "source": [
    "CustomerAddress.nunique()"
   ]
  },
  {
   "cell_type": "markdown",
   "id": "beb1d5d0-0463-4f3d-9a5d-61654c827a44",
   "metadata": {},
   "source": [
    "### Exploring the columns"
   ]
  },
  {
   "cell_type": "code",
   "execution_count": 117,
   "id": "7186e779-76ff-42fc-ba00-44d8ed2631f8",
   "metadata": {},
   "outputs": [
    {
     "data": {
      "text/plain": [
       "Index(['customer_id', 'address', 'postcode', 'state', 'country',\n",
       "       'property_valuation'],\n",
       "      dtype='object')"
      ]
     },
     "execution_count": 117,
     "metadata": {},
     "output_type": "execute_result"
    }
   ],
   "source": [
    "CustomerAddress.columns"
   ]
  },
  {
   "cell_type": "code",
   "execution_count": 118,
   "id": "245f30a7-31c7-4cff-9458-f520e2296750",
   "metadata": {},
   "outputs": [
    {
     "data": {
      "text/plain": [
       "2170    31\n",
       "2155    30\n",
       "2145    30\n",
       "2153    29\n",
       "3977    26\n",
       "        ..\n",
       "3808     1\n",
       "3114     1\n",
       "4721     1\n",
       "4799     1\n",
       "3089     1\n",
       "Name: postcode, Length: 873, dtype: int64"
      ]
     },
     "execution_count": 118,
     "metadata": {},
     "output_type": "execute_result"
    }
   ],
   "source": [
    "CustomerAddress['postcode'].value_counts()"
   ]
  },
  {
   "cell_type": "code",
   "execution_count": 119,
   "id": "9d68a936-3296-41f4-9ca7-47ebd7fcc02a",
   "metadata": {},
   "outputs": [
    {
     "data": {
      "text/plain": [
       "NSW                2054\n",
       "VIC                 939\n",
       "QLD                 838\n",
       "New South Wales      86\n",
       "Victoria             82\n",
       "Name: state, dtype: int64"
      ]
     },
     "execution_count": 119,
     "metadata": {},
     "output_type": "execute_result"
    }
   ],
   "source": [
    "CustomerAddress['state'].value_counts()"
   ]
  },
  {
   "cell_type": "code",
   "execution_count": 120,
   "id": "6ec17610-6b3e-48ac-b34a-74065d224fd4",
   "metadata": {},
   "outputs": [
    {
     "data": {
      "text/plain": [
       "Australia    3999\n",
       "Name: country, dtype: int64"
      ]
     },
     "execution_count": 120,
     "metadata": {},
     "output_type": "execute_result"
    }
   ],
   "source": [
    "CustomerAddress['country'].value_counts()"
   ]
  },
  {
   "cell_type": "code",
   "execution_count": 121,
   "id": "9fb54eee-6892-440b-b3fd-abcf03e7b937",
   "metadata": {},
   "outputs": [
    {
     "data": {
      "text/plain": [
       "9     647\n",
       "8     646\n",
       "10    577\n",
       "7     493\n",
       "11    281\n",
       "6     238\n",
       "5     225\n",
       "4     214\n",
       "12    195\n",
       "3     186\n",
       "1     154\n",
       "2     143\n",
       "Name: property_valuation, dtype: int64"
      ]
     },
     "execution_count": 121,
     "metadata": {},
     "output_type": "execute_result"
    }
   ],
   "source": [
    "CustomerAddress['property_valuation'].value_counts()"
   ]
  },
  {
   "cell_type": "markdown",
   "id": "f017c3d3-1fa2-41e0-92b6-503beff36420",
   "metadata": {},
   "source": [
    "**All the columns are correct information.**"
   ]
  }
 ],
 "metadata": {
  "kernelspec": {
   "display_name": "Python 3 (ipykernel)",
   "language": "python",
   "name": "python3"
  },
  "language_info": {
   "codemirror_mode": {
    "name": "ipython",
    "version": 3
   },
   "file_extension": ".py",
   "mimetype": "text/x-python",
   "name": "python",
   "nbconvert_exporter": "python",
   "pygments_lexer": "ipython3",
   "version": "3.10.6"
  }
 },
 "nbformat": 4,
 "nbformat_minor": 5
}
